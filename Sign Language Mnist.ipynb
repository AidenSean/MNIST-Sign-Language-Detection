{
 "cells": [
  {
   "cell_type": "code",
   "execution_count": 18,
   "id": "e8e1252d",
   "metadata": {
    "tags": []
   },
   "outputs": [],
   "source": [
    "import matplotlib.pyplot as plt\n",
    "%matplotlib inline\n",
    "import numpy as np\n",
    "import pandas as pd\n",
    "import sys\n",
    "import tensorflow as tf\n",
    "import tensorflow.keras\n",
    "import sklearn as sk"
   ]
  },
  {
   "cell_type": "code",
   "execution_count": 20,
   "id": "de088855-2a20-4954-a97f-aec1c0550401",
   "metadata": {},
   "outputs": [
    {
     "name": "stdout",
     "output_type": "stream",
     "text": [
      "Python Platform: macOS-14.1.2-arm64-arm-64bit\n",
      "Tensor Flow Version: 2.15.0\n",
      "\n",
      "Python 3.10.13 | packaged by conda-forge | (main, Dec 23 2023, 15:35:25) [Clang 16.0.6 ]\n",
      "Pandas 2.2.0\n",
      "Scikit-Learn 1.4.0\n",
      "GPU is available\n"
     ]
    }
   ],
   "source": [
    "import platform\n",
    "print(f\"Python Platform: {platform.platform()}\")\n",
    "print(f\"Tensor Flow Version: {tf.__version__}\")\n",
    "#print(f\"Keras Version: {tensorflow.keras.__version__}\")\n",
    "print()\n",
    "print(f\"Python {sys.version}\")\n",
    "print(f\"Pandas {pd.__version__}\")\n",
    "print(f\"Scikit-Learn {sk.__version__}\")\n",
    "gpu = len(tf.config.list_physical_devices('GPU'))>0\n",
    "print(\"GPU is\", \"available\" if gpu else \"NOT AVAILABLE\")"
   ]
  },
  {
   "cell_type": "code",
   "execution_count": 181,
   "id": "5ad7196a",
   "metadata": {},
   "outputs": [],
   "source": [
    "df_train = pd.read_csv('/Users/indrilaganguly/Documents/Riku/Computer_poster/archive/sign_mnist_train.csv')\n",
    "#print(df_train.head()) \n",
    "#df_train.info()"
   ]
  },
  {
   "cell_type": "code",
   "execution_count": 182,
   "id": "412714ed",
   "metadata": {},
   "outputs": [],
   "source": [
    "df_test = pd.read_csv('/Users/indrilaganguly/Documents/Riku/Computer_poster/archive/sign_mnist_test.csv')\n",
    "#print(df_test.head()) \n",
    "#df_test.info()"
   ]
  },
  {
   "cell_type": "code",
   "execution_count": 183,
   "id": "3c3817bc",
   "metadata": {},
   "outputs": [],
   "source": [
    "y_train = df_train[[\"label\"]]\n",
    "y_train=y_train.to_numpy()"
   ]
  },
  {
   "cell_type": "code",
   "execution_count": 184,
   "id": "4e33c064",
   "metadata": {},
   "outputs": [],
   "source": [
    "X_train = df_train.loc[:, df_train.columns != 'label']\n",
    "X_train = X_train.to_numpy()"
   ]
  },
  {
   "cell_type": "code",
   "execution_count": 185,
   "id": "c1e01f57",
   "metadata": {},
   "outputs": [],
   "source": [
    "y_test = df_test[[\"label\"]]\n",
    "y_test=y_test.to_numpy()\n",
    "X_test = df_test.loc[:,df_test.columns!='label']\n",
    "X_test = X_test.to_numpy()"
   ]
  },
  {
   "cell_type": "code",
   "execution_count": 186,
   "id": "421de3b1",
   "metadata": {},
   "outputs": [
    {
     "name": "stdout",
     "output_type": "stream",
     "text": [
      "27455\n",
      "27455\n",
      "7172\n",
      "7172\n"
     ]
    }
   ],
   "source": [
    "print(len(X_train))\n",
    "print(len(y_train))\n",
    "print(len(X_test))\n",
    "print(len(y_test))\n",
    "\n",
    "y_train_categorical = keras.utils.to_categorical(\n",
    "    y_train, num_classes=25, dtype='float32'\n",
    ")\n",
    "\n",
    "y_test_categorical = keras.utils.to_categorical(\n",
    "    y_test, num_classes=25, dtype='float32'\n",
    ")"
   ]
  },
  {
   "cell_type": "code",
   "execution_count": 187,
   "id": "029954f2",
   "metadata": {},
   "outputs": [
    {
     "data": {
      "text/plain": [
       "array([0., 0., 0., 1., 0., 0., 0., 0., 0., 0., 0., 0., 0., 0., 0., 0., 0.,\n",
       "       0., 0., 0., 0., 0., 0., 0., 0.], dtype=float32)"
      ]
     },
     "execution_count": 187,
     "metadata": {},
     "output_type": "execute_result"
    }
   ],
   "source": [
    "y_train_categorical[0]"
   ]
  },
  {
   "cell_type": "code",
   "execution_count": 94,
   "id": "6362e48a",
   "metadata": {},
   "outputs": [],
   "source": [
    "#X_train[0].reshape(28,28)"
   ]
  },
  {
   "cell_type": "code",
   "execution_count": 276,
   "id": "283a6e0c",
   "metadata": {},
   "outputs": [
    {
     "data": {
      "image/png": "[encoded data removed]",
      "text/plain": [
       "<Figure size 480x480 with 1 Axes>"
      ]
     },
     "metadata": {},
     "output_type": "display_data"
    }
   ],
   "source": [
    "plt.matshow(X_train[5].reshape(28,28), cmap='gray')\n",
    "plt.savefig('plot_train6.png', dpi=300, bbox_inches='tight')"
   ]
  },
  {
   "cell_type": "code",
   "execution_count": 188,
   "id": "889fbfad",
   "metadata": {},
   "outputs": [],
   "source": [
    "X_train.shape\n",
    "X_train=X_train/255\n",
    "X_test=X_test/255"
   ]
  },
  {
   "cell_type": "code",
   "execution_count": 97,
   "id": "61de1699",
   "metadata": {},
   "outputs": [],
   "source": [
    "#model = keras.Sequential([\n",
    "#    keras.layers.Dense(26,input_shape=(784,),activation='sigmoid')\n",
    "#])\n",
    "#model.compile(\n",
    "#    optimizer='adam',\n",
    "#    loss='sparse_categorical_crossentropy',\n",
    "#    metrics=['accuracy']\n",
    "#)\n",
    "#model.fit(X_train,y_train,epochs=20)"
   ]
  },
  {
   "cell_type": "code",
   "execution_count": 98,
   "id": "7ef6a3e5",
   "metadata": {},
   "outputs": [],
   "source": [
    "#model.evaluate(X_test,y_test)"
   ]
  },
  {
   "cell_type": "code",
   "execution_count": 99,
   "id": "acf4e181",
   "metadata": {},
   "outputs": [],
   "source": [
    "#y_predict = model.predict(X_test)\n",
    "#y_predict[0]"
   ]
  },
  {
   "cell_type": "code",
   "execution_count": 100,
   "id": "722a2421",
   "metadata": {},
   "outputs": [],
   "source": [
    "#np.argmax(y_predict[0])"
   ]
  },
  {
   "cell_type": "code",
   "execution_count": 101,
   "id": "c803b8df",
   "metadata": {},
   "outputs": [],
   "source": [
    "#plt.matshow(X_test[0].reshape(28,28))"
   ]
  },
  {
   "cell_type": "code",
   "execution_count": 102,
   "id": "423b8b06",
   "metadata": {},
   "outputs": [],
   "source": [
    "#y_predict[1]"
   ]
  },
  {
   "cell_type": "code",
   "execution_count": 103,
   "id": "51095804",
   "metadata": {},
   "outputs": [],
   "source": [
    "#np.argmax(y_predict[1])"
   ]
  },
  {
   "cell_type": "code",
   "execution_count": 104,
   "id": "70a03090",
   "metadata": {},
   "outputs": [],
   "source": [
    "#plt.matshow(X_test[1].reshape(28,28))"
   ]
  },
  {
   "cell_type": "code",
   "execution_count": 105,
   "id": "f2d23f35",
   "metadata": {},
   "outputs": [],
   "source": [
    "#y_predicted_labels = [np.argmax(i) for i in y_predict]\n",
    "#y_predicted_labels[0:20]"
   ]
  },
  {
   "cell_type": "code",
   "execution_count": 106,
   "id": "63d492fc",
   "metadata": {},
   "outputs": [],
   "source": [
    "#y_test[0:20]"
   ]
  },
  {
   "cell_type": "code",
   "execution_count": 107,
   "id": "e935c030",
   "metadata": {},
   "outputs": [],
   "source": [
    "#cm=tf.math.confusion_matrix(labels=y_test, predictions=y_predicted_labels)"
   ]
  },
  {
   "cell_type": "code",
   "execution_count": 189,
   "id": "2e53857a",
   "metadata": {},
   "outputs": [],
   "source": [
    "import seaborn as sb\n",
    "#plt.figure(figsize=(15,10))\n",
    "#sb.heatmap(cm,annot=True,fmt='d')\n",
    "#plt.xlabel('Predicted')\n",
    "#plt.ylabel('Truth')"
   ]
  },
  {
   "cell_type": "code",
   "execution_count": 372,
   "id": "36b7125a",
   "metadata": {},
   "outputs": [
    {
     "name": "stdout",
     "output_type": "stream",
     "text": [
      "Epoch 1/35\n",
      "858/858 [==============================] - 13s 15ms/step - loss: 2.5678 - accuracy: 0.2829\n",
      "Epoch 2/35\n",
      "858/858 [==============================] - 12s 14ms/step - loss: 1.7502 - accuracy: 0.5394\n",
      "Epoch 3/35\n",
      "858/858 [==============================] - 13s 15ms/step - loss: 1.3777 - accuracy: 0.6328\n",
      "Epoch 4/35\n",
      "858/858 [==============================] - 12s 14ms/step - loss: 1.1586 - accuracy: 0.6875\n",
      "Epoch 5/35\n",
      "858/858 [==============================] - 12s 14ms/step - loss: 1.0067 - accuracy: 0.7302\n",
      "Epoch 6/35\n",
      "858/858 [==============================] - 13s 15ms/step - loss: 0.8975 - accuracy: 0.7569\n",
      "Epoch 7/35\n",
      "858/858 [==============================] - 14s 16ms/step - loss: 0.8096 - accuracy: 0.7853\n",
      "Epoch 8/35\n",
      "858/858 [==============================] - 13s 15ms/step - loss: 0.7384 - accuracy: 0.8066\n",
      "Epoch 9/35\n",
      "858/858 [==============================] - 12s 14ms/step - loss: 0.6791 - accuracy: 0.8208\n",
      "Epoch 10/35\n",
      "858/858 [==============================] - 12s 14ms/step - loss: 0.6272 - accuracy: 0.8389\n",
      "Epoch 11/35\n",
      "858/858 [==============================] - 12s 14ms/step - loss: 0.5797 - accuracy: 0.8513\n",
      "Epoch 12/35\n",
      "858/858 [==============================] - 12s 14ms/step - loss: 0.5395 - accuracy: 0.8651\n",
      "Epoch 13/35\n",
      "858/858 [==============================] - 12s 14ms/step - loss: 0.5017 - accuracy: 0.8762\n",
      "Epoch 14/35\n",
      "858/858 [==============================] - 13s 15ms/step - loss: 0.4687 - accuracy: 0.8865\n",
      "Epoch 15/35\n",
      "858/858 [==============================] - 13s 15ms/step - loss: 0.4378 - accuracy: 0.8958\n",
      "Epoch 16/35\n",
      "858/858 [==============================] - 13s 15ms/step - loss: 0.4106 - accuracy: 0.9034\n",
      "Epoch 17/35\n",
      "858/858 [==============================] - 13s 15ms/step - loss: 0.3853 - accuracy: 0.9128\n",
      "Epoch 18/35\n",
      "858/858 [==============================] - 13s 15ms/step - loss: 0.3610 - accuracy: 0.9192\n",
      "Epoch 19/35\n",
      "858/858 [==============================] - 13s 15ms/step - loss: 0.3369 - accuracy: 0.9272\n",
      "Epoch 20/35\n",
      "858/858 [==============================] - 13s 15ms/step - loss: 0.3180 - accuracy: 0.9324\n",
      "Epoch 21/35\n",
      "858/858 [==============================] - 13s 15ms/step - loss: 0.2979 - accuracy: 0.9395\n",
      "Epoch 22/35\n",
      "858/858 [==============================] - 13s 15ms/step - loss: 0.2816 - accuracy: 0.9451\n",
      "Epoch 23/35\n",
      "858/858 [==============================] - 13s 15ms/step - loss: 0.2647 - accuracy: 0.9494\n",
      "Epoch 24/35\n",
      "858/858 [==============================] - 13s 15ms/step - loss: 0.2503 - accuracy: 0.9547\n",
      "Epoch 25/35\n",
      "858/858 [==============================] - 13s 15ms/step - loss: 0.2357 - accuracy: 0.9592\n",
      "Epoch 26/35\n",
      "858/858 [==============================] - 12s 14ms/step - loss: 0.2219 - accuracy: 0.9619\n",
      "Epoch 27/35\n",
      "858/858 [==============================] - 12s 15ms/step - loss: 0.2099 - accuracy: 0.9659\n",
      "Epoch 28/35\n",
      "858/858 [==============================] - 13s 15ms/step - loss: 0.1978 - accuracy: 0.9699\n",
      "Epoch 29/35\n",
      "858/858 [==============================] - 13s 15ms/step - loss: 0.1868 - accuracy: 0.9733\n",
      "Epoch 30/35\n",
      "858/858 [==============================] - 13s 15ms/step - loss: 0.1772 - accuracy: 0.9756\n",
      "Epoch 31/35\n",
      "858/858 [==============================] - 13s 15ms/step - loss: 0.1665 - accuracy: 0.9781\n",
      "Epoch 32/35\n",
      "858/858 [==============================] - 12s 15ms/step - loss: 0.1581 - accuracy: 0.9815\n",
      "Epoch 33/35\n",
      "858/858 [==============================] - 13s 15ms/step - loss: 0.1511 - accuracy: 0.9826\n",
      "Epoch 34/35\n",
      "858/858 [==============================] - 12s 15ms/step - loss: 0.1426 - accuracy: 0.9844\n",
      "Epoch 35/35\n",
      "858/858 [==============================] - 13s 15ms/step - loss: 0.1358 - accuracy: 0.9869\n"
     ]
    },
    {
     "data": {
      "text/plain": [
       "<keras.src.callbacks.History at 0x4226c3cd0>"
      ]
     },
     "execution_count": 372,
     "metadata": {},
     "output_type": "execute_result"
    }
   ],
   "source": [
    "model = keras.Sequential([\n",
    "    keras.layers.Dense(350,input_shape=(784,),activation='relu'),\n",
    "    #keras.layers.Dropout(0.2),\n",
    "    #keras.layers.Dense(180,activation='relu'),\n",
    "    #keras.layers.Dropout(0.1),\n",
    "    keras.layers.Dense(25,activation='softmax')\n",
    "])\n",
    "model.compile(\n",
    "    optimizer='SGD',\n",
    "    loss='categorical_crossentropy',\n",
    "    metrics=['accuracy']\n",
    ")\n",
    "model.fit(X_train,y_train_categorical,epochs=35)"
   ]
  },
  {
   "cell_type": "code",
   "execution_count": 347,
   "id": "252f7927-0e3d-4572-97bd-b1aa2dd75a33",
   "metadata": {},
   "outputs": [],
   "source": [
    "epoch_list =  list(range(1,36))\n",
    "accuracy_list_ann = [0.395, 0.638, 0.729, 0.775, 0.815, 0.836, 0.863, 0.885, 0.897, 0.916, 0.924, 0.932, 0.944, 0.949, 0.948, \n",
    "                 0.957, 0.964, 0.961, 0.968, 0.968, 0.976, 0.967, 0.968, 0.968, 0.975, 0.980, 0.970, 0.976, 0.984, 0.973, 0.982,0.976, \n",
    "                 0.986, 0.968, 0.984]\n",
    "accuracy_list_ann_sgd = [0.298, 0.534, 0.627, 0.682, 0.725, 0.756, 0.780, 0.802, 0.821, 0.836, 0.850, 0.865, 0.874, 0.886, 0.895, 0.903,\n",
    "                         0.911, 0.919, 0.925, 0.933, 0.936, 0.943, 0.949, 0.953, 0.959, 0.962, 0.967, 0.970, 0.975, 0.976, 0.978, 0.980, \n",
    "                         0.983, 0.983, 0.988]"
   ]
  },
  {
   "cell_type": "code",
   "execution_count": null,
   "id": "a2090e47-93fa-4c6a-8bf0-479cdb023c0d",
   "metadata": {},
   "outputs": [],
   "source": [
    "%%timeit -n1 -r1"
   ]
  },
  {
   "cell_type": "code",
   "execution_count": 34,
   "id": "ef77ad81",
   "metadata": {},
   "outputs": [
    {
     "data": {
      "text/plain": [
       "(7172, 784)"
      ]
     },
     "execution_count": 34,
     "metadata": {},
     "output_type": "execute_result"
    }
   ],
   "source": [
    "X_test.shape"
   ]
  },
  {
   "cell_type": "code",
   "execution_count": 373,
   "id": "11e493f9",
   "metadata": {},
   "outputs": [
    {
     "name": "stdout",
     "output_type": "stream",
     "text": [
      "225/225 [==============================] - 3s 14ms/step - loss: 1.0922 - accuracy: 0.7041\n"
     ]
    },
    {
     "data": {
      "text/plain": [
       "[1.0922471284866333, 0.7041271328926086]"
      ]
     },
     "execution_count": 373,
     "metadata": {},
     "output_type": "execute_result"
    }
   ],
   "source": [
    "model.evaluate(X_test,y_test_categorical)"
   ]
  },
  {
   "cell_type": "code",
   "execution_count": 374,
   "id": "90623342",
   "metadata": {},
   "outputs": [
    {
     "name": "stdout",
     "output_type": "stream",
     "text": [
      "225/225 [==============================] - 0s 2ms/step\n"
     ]
    }
   ],
   "source": [
    "y_predict = model.predict(X_test)\n",
    "y_predicted_labels = [np.argmax(i) for i in y_predict]"
   ]
  },
  {
   "cell_type": "code",
   "execution_count": 223,
   "id": "57d152bb",
   "metadata": {},
   "outputs": [
    {
     "data": {
      "text/plain": [
       "Text(158.22222222222223, 0.5, 'Truth')"
      ]
     },
     "execution_count": 223,
     "metadata": {},
     "output_type": "execute_result"
    },
    {
     "data": {
      "image/png": "[encoded data removed]",
      "text/plain": [
       "<Figure size 1500x1000 with 2 Axes>"
      ]
     },
     "metadata": {},
     "output_type": "display_data"
    }
   ],
   "source": [
    "cm=tf.math.confusion_matrix(labels=y_test, predictions=y_predicted_labels)\n",
    "plt.figure(figsize=(15,10))\n",
    "sb.heatmap(cm,annot=True,fmt='d')\n",
    "plt.xlabel('Predicted')\n",
    "plt.ylabel('Truth')\n"
   ]
  },
  {
   "cell_type": "code",
   "execution_count": 264,
   "id": "3a7a1518-4cf2-4b7c-bc37-c9db8bef4547",
   "metadata": {},
   "outputs": [
    {
     "name": "stdout",
     "output_type": "stream",
     "text": [
      "C\n",
      "K\n",
      "K\n"
     ]
    },
    {
     "data": {
      "image/png": "[encoded data removed]",
      "text/plain": [
       "<Figure size 480x480 with 1 Axes>"
      ]
     },
     "metadata": {},
     "output_type": "display_data"
    },
    {
     "data": {
      "image/png": "[encoded data removed]",
      "text/plain": [
       "<Figure size 480x480 with 1 Axes>"
      ]
     },
     "metadata": {},
     "output_type": "display_data"
    }
   ],
   "source": [
    "letters = [\"A\",\"B\",\"C\", \"D\", \"E\", \"F\",\"G\",\"H\",\"I\",\"J\",\"K\",\"L\",\"M\",\"N\",\"O\",\"P\",\"Q\",\"R\",\"S\",\"T\",\"U\",\"V\",\"W\",\"X\",\"Y\"]\n",
    "print(letters[y_train[2][0]])\n",
    "plt.matshow(X_train[2].reshape(28,28), cmap='gray')\n",
    "\n",
    "print(letters[y_test[6][0]])\n",
    "plt.matshow(X_test[6].reshape(28,28), cmap='gray')\n",
    "print(letters[y_predicted_labels[6]])"
   ]
  },
  {
   "cell_type": "code",
   "execution_count": 167,
   "id": "3071e616-b256-4b5b-bbbf-d6f0537a651a",
   "metadata": {
    "scrolled": true
   },
   "outputs": [
    {
     "name": "stdout",
     "output_type": "stream",
     "text": [
      "V\n",
      "F\n"
     ]
    },
    {
     "data": {
      "image/png": "[encoded data removed]",
      "text/plain": [
       "<Figure size 480x480 with 1 Axes>"
      ]
     },
     "metadata": {},
     "output_type": "display_data"
    }
   ],
   "source": [
    " #y_predicted_labels\n",
    "#model.predict(X_test).shape\n",
    "#y_predicted_labels\n",
    "#np.where(y_predict[0]==1)\n",
    "#[np.where(r==1)[0][0] for r in y_predict[0]]\n",
    "misclassified = np.where(y_test.reshape(7172) != y_predicted_labels)\n",
    "mis = misclassified[0][0]\n",
    "print(letters[y_test[mis][0]])\n",
    "plt.matshow(X_test[mis].reshape(28,28))\n",
    "print(letters[y_predicted_labels[mis]])"
   ]
  },
  {
   "cell_type": "code",
   "execution_count": 375,
   "id": "3bbf7018",
   "metadata": {},
   "outputs": [
    {
     "name": "stdout",
     "output_type": "stream",
     "text": [
      "              precision    recall  f1-score   support\n",
      "\n",
      "           0       0.88      0.99      0.93       331\n",
      "           1       1.00      0.86      0.93       432\n",
      "           2       0.94      0.88      0.91       310\n",
      "           3       0.89      0.80      0.84       245\n",
      "           4       0.87      0.90      0.88       498\n",
      "           5       0.68      0.91      0.78       247\n",
      "           6       0.84      0.71      0.77       348\n",
      "           7       0.79      0.76      0.78       436\n",
      "           8       0.66      0.71      0.68       288\n",
      "          10       0.57      0.44      0.50       331\n",
      "          11       0.61      0.90      0.73       209\n",
      "          12       0.71      0.56      0.63       394\n",
      "          13       0.68      0.57      0.62       291\n",
      "          14       0.92      0.61      0.73       246\n",
      "          15       0.93      0.99      0.96       347\n",
      "          16       0.62      0.74      0.67       164\n",
      "          17       0.26      0.30      0.28       144\n",
      "          18       0.25      0.37      0.30       246\n",
      "          19       0.45      0.44      0.44       248\n",
      "          20       0.39      0.57      0.47       266\n",
      "          21       0.78      0.58      0.66       346\n",
      "          22       0.54      0.62      0.58       206\n",
      "          23       0.57      0.65      0.61       267\n",
      "          24       0.76      0.58      0.66       332\n",
      "\n",
      "    accuracy                           0.70      7172\n",
      "   macro avg       0.69      0.69      0.68      7172\n",
      "weighted avg       0.73      0.70      0.71      7172\n",
      "\n"
     ]
    }
   ],
   "source": [
    "from sklearn.metrics import confusion_matrix, classification_report\n",
    "print(classification_report(y_test, y_predicted_labels))"
   ]
  },
  {
   "cell_type": "code",
   "execution_count": 281,
   "id": "08718f2f-52ed-4ab0-90e4-152c65abc0b1",
   "metadata": {},
   "outputs": [],
   "source": [
    "X_train_cnn = X_train.reshape(-1,28,28,1)\n",
    "X_test_cnn = X_test.reshape(-1,28,28,1)"
   ]
  },
  {
   "cell_type": "code",
   "execution_count": 388,
   "id": "49b743be",
   "metadata": {},
   "outputs": [
    {
     "name": "stdout",
     "output_type": "stream",
     "text": [
      "Epoch 1/7\n",
      "858/858 [==============================] - 20s 22ms/step - loss: 3.1903 - accuracy: 0.0488\n",
      "Epoch 2/7\n",
      "858/858 [==============================] - 18s 21ms/step - loss: 2.9935 - accuracy: 0.1148\n",
      "Epoch 3/7\n",
      "858/858 [==============================] - 18s 21ms/step - loss: 2.2176 - accuracy: 0.3120\n",
      "Epoch 4/7\n",
      "858/858 [==============================] - 18s 21ms/step - loss: 1.4377 - accuracy: 0.5293\n",
      "Epoch 5/7\n",
      "858/858 [==============================] - 18s 22ms/step - loss: 0.9694 - accuracy: 0.6780\n",
      "Epoch 6/7\n",
      "858/858 [==============================] - 19s 22ms/step - loss: 0.6927 - accuracy: 0.7668\n",
      "Epoch 7/7\n",
      "858/858 [==============================] - 18s 21ms/step - loss: 0.5402 - accuracy: 0.8131\n"
     ]
    },
    {
     "data": {
      "text/plain": [
       "<keras.src.callbacks.History at 0x46239eec0>"
      ]
     },
     "execution_count": 388,
     "metadata": {},
     "output_type": "execute_result"
    }
   ],
   "source": [
    "model_cnn = keras.Sequential([\n",
    "    \n",
    "    keras.layers.Conv2D(filters=32,padding='same', kernel_size=(3,3),  activation='relu', input_shape=(28,28,1)),\n",
    "    keras.layers.MaxPooling2D((2,2)),\n",
    "    keras.layers.Conv2D(filters=32,padding='same', kernel_size=(3,3),  activation='relu'),\n",
    "    keras.layers.MaxPooling2D((2,2)),\n",
    "    keras.layers.Dropout(0.2),\n",
    "    keras.layers.Conv2D(filters=32,padding='same', kernel_size=(3,3),  activation='relu'),\n",
    "    keras.layers.MaxPooling2D((2,2)),\n",
    "    keras.layers.Flatten(),\n",
    "    keras.layers.Dense(50,activation='relu'),\n",
    "    #keras.layers.Dropout(0.5), \n",
    "    keras.layers.Dense(25,activation='softmax')\n",
    "])\n",
    "model_cnn.compile( \n",
    "    optimizer='SGD',\n",
    "    loss='categorical_crossentropy',\n",
    "    metrics=['accuracy']\n",
    ")\n",
    "model_cnn.fit(X_train_cnn,y_train_categorical,epochs=7)"
   ]
  },
  {
   "cell_type": "code",
   "execution_count": 353,
   "id": "08c4c5b9-dc41-4de1-af7e-8b66d6be38c1",
   "metadata": {},
   "outputs": [
    {
     "data": {
      "image/png": "[encoded data removed]",
      "text/plain": [
       "<Figure size 640x480 with 1 Axes>"
      ]
     },
     "metadata": {},
     "output_type": "display_data"
    }
   ],
   "source": [
    "accuracy_list_cnn = [0.536, 0.899, 0.946, 0.965, 0.971, 0.973, 0.976, 0.978, 0.981, 0.978, 0.987, 0.984, 0.983,\n",
    "                     0.988, 0.987, 0.988, 0.988, 0.990, 0.990, 0.991, 0.989, 0.991, 0.990, 0.993, 0.992, 0.994,\n",
    "                     0.991, 0.994, 0.992, 0.993, 0.993, 0.995, 0.993, 0.995, 0.995]\n",
    "\n",
    "accuracy_list_cnn_sgd = [0.052, 0.097, 0.326, 0.598, 0.744, 0.828, 0.875, 0.903, 0.925, 0.931, 0.943, 0.943, 0.944, 0.930, 0.917, 0.891, 0.831,\n",
    "                        0.743, 0.4558, 0.363, 0.581, 0.255, 0.049, 0.057, 0.073, 0.182, 0.212, 0.420, 0.290, 0.214, 0.188, 0.070, 0.079,\n",
    "                        0.1514, 0.0798]\n",
    "\n",
    "plt.plot(epoch_list, accuracy_list_ann, label='ANN')\n",
    "plt.plot(epoch_list, accuracy_list_cnn, label='CNN')\n",
    "\n",
    "plt.xlabel('No. of Epochs')\n",
    "plt.ylabel('Accuracy')\n",
    "\n",
    "plt.legend()\n",
    "plt.savefig('plot_cnn_vs_ann_adam.png', dpi=300, bbox_inches='tight')\n",
    "\n"
   ]
  },
  {
   "cell_type": "code",
   "execution_count": 354,
   "id": "425dd374-b938-425b-94ca-8ae9070a7cef",
   "metadata": {},
   "outputs": [
    {
     "data": {
      "image/png": "[encoded data removed]",
      "text/plain": [
       "<Figure size 640x480 with 1 Axes>"
      ]
     },
     "metadata": {},
     "output_type": "display_data"
    }
   ],
   "source": [
    "plt.plot(epoch_list, accuracy_list_ann_sgd, label='ANN')\n",
    "plt.plot(epoch_list, accuracy_list_cnn_sgd, label='CNN')\n",
    "\n",
    "plt.xlabel('No. of Epochs')\n",
    "plt.ylabel('Accuracy')\n",
    "\n",
    "plt.legend()\n",
    "plt.savefig('plot_cnn_vs_ann_sgd.png', dpi=300, bbox_inches='tight')"
   ]
  },
  {
   "cell_type": "code",
   "execution_count": 389,
   "id": "d9e535bf",
   "metadata": {},
   "outputs": [
    {
     "name": "stdout",
     "output_type": "stream",
     "text": [
      "225/225 [==============================] - 4s 18ms/step - loss: 0.6492 - accuracy: 0.7819\n"
     ]
    },
    {
     "data": {
      "text/plain": [
       "[0.6492002606391907, 0.7819297313690186]"
      ]
     },
     "execution_count": 389,
     "metadata": {},
     "output_type": "execute_result"
    }
   ],
   "source": [
    "model_cnn.evaluate(X_test_cnn,y_test_categorical)"
   ]
  },
  {
   "cell_type": "code",
   "execution_count": 382,
   "id": "98f5374a",
   "metadata": {},
   "outputs": [
    {
     "name": "stdout",
     "output_type": "stream",
     "text": [
      "225/225 [==============================] - 1s 3ms/step\n"
     ]
    }
   ],
   "source": [
    "y_predict_cnn = model_cnn.predict(X_test_cnn)\n",
    "y_predicted_labels_cnn = [np.argmax(i) for i in y_predict_cnn]"
   ]
  },
  {
   "cell_type": "code",
   "execution_count": 383,
   "id": "e299d263",
   "metadata": {},
   "outputs": [
    {
     "name": "stdout",
     "output_type": "stream",
     "text": [
      "              precision    recall  f1-score   support\n",
      "\n",
      "           0       0.85      1.00      0.92       331\n",
      "           1       0.96      1.00      0.98       432\n",
      "           2       0.98      0.98      0.98       310\n",
      "           3       1.00      0.87      0.93       245\n",
      "           4       0.92      0.96      0.94       498\n",
      "           5       1.00      1.00      1.00       247\n",
      "           6       0.94      0.92      0.93       348\n",
      "           7       0.89      0.91      0.90       436\n",
      "           8       0.99      1.00      0.99       288\n",
      "          10       1.00      0.92      0.96       331\n",
      "          11       1.00      1.00      1.00       209\n",
      "          12       0.64      0.94      0.76       394\n",
      "          13       1.00      0.33      0.49       291\n",
      "          14       0.99      0.87      0.93       246\n",
      "          15       0.99      1.00      1.00       347\n",
      "          16       0.91      0.87      0.89       164\n",
      "          17       0.90      0.85      0.87       144\n",
      "          18       0.96      0.61      0.74       246\n",
      "          19       0.75      0.79      0.77       248\n",
      "          20       0.87      1.00      0.93       266\n",
      "          21       0.99      0.97      0.98       346\n",
      "          22       0.95      1.00      0.97       206\n",
      "          23       0.93      0.92      0.92       267\n",
      "          24       0.87      1.00      0.93       332\n",
      "\n",
      "    accuracy                           0.91      7172\n",
      "   macro avg       0.93      0.90      0.91      7172\n",
      "weighted avg       0.92      0.91      0.91      7172\n",
      "\n"
     ]
    }
   ],
   "source": [
    "from sklearn.metrics import confusion_matrix, classification_report\n",
    "print(classification_report(y_test, y_predicted_labels_cnn))"
   ]
  },
  {
   "cell_type": "code",
   "execution_count": 256,
   "id": "4fe2da97-55a0-453c-9831-17d2c361c9cc",
   "metadata": {},
   "outputs": [
    {
     "name": "stdout",
     "output_type": "stream",
     "text": [
      "V\n",
      "V\n"
     ]
    },
    {
     "data": {
      "image/png": "[encoded data removed]",
      "text/plain": [
       "<Figure size 480x480 with 1 Axes>"
      ]
     },
     "metadata": {},
     "output_type": "display_data"
    }
   ],
   "source": [
    "misclassified_cnn = np.where(y_test.reshape(7172) != y_predicted_labels_cnn)\n",
    "mis_cnn = misclassified_cnn[0][0]\n",
    "print(letters[y_test[mis][0]])\n",
    "plt.matshow(X_test[mis].reshape(28,28))\n",
    "print(letters[y_predicted_labels_cnn[mis]])"
   ]
  },
  {
   "cell_type": "code",
   "execution_count": 307,
   "id": "96633b5e-9dac-4f76-a410-6a6b8bf423c2",
   "metadata": {},
   "outputs": [
    {
     "name": "stdout",
     "output_type": "stream",
     "text": [
      "S\n",
      "S\n",
      "N\n"
     ]
    },
    {
     "data": {
      "image/png": "[encoded data removed]",
      "text/plain": [
       "<Figure size 480x480 with 1 Axes>"
      ]
     },
     "metadata": {},
     "output_type": "display_data"
    }
   ],
   "source": [
    "misclassified_ann_only = np.where((y_test.reshape(7172) != y_predicted_labels)&(y_test.reshape(7172) == y_predicted_labels_cnn))\n",
    "misclassified_ann_only\n",
    "mis_ann_only = misclassified_ann_only[0][5]\n",
    "print(letters[y_test[mis_ann_only][0]])\n",
    "plt.matshow(X_test[mis_ann_only].reshape(28,28), cmap='gray')\n",
    "plt.savefig('plot_ann6.png', dpi=300, bbox_inches='tight')\n",
    "print(letters[y_predicted_labels_cnn[mis_ann_only]])\n",
    "print(letters[y_predicted_labels[mis_ann_only]])"
   ]
  },
  {
   "cell_type": "code",
   "execution_count": 315,
   "id": "d3c16309-5298-4820-866c-4e1f30643b1f",
   "metadata": {},
   "outputs": [
    {
     "name": "stdout",
     "output_type": "stream",
     "text": [
      "P\n",
      "Q\n",
      "P\n"
     ]
    },
    {
     "data": {
      "image/png": "[encoded data removed]",
      "text/plain": [
       "<Figure size 480x480 with 1 Axes>"
      ]
     },
     "metadata": {},
     "output_type": "display_data"
    }
   ],
   "source": [
    "misclassified_cnn_only = np.where((y_test.reshape(7172) != y_predicted_labels_cnn)&(y_test.reshape(7172) == y_predicted_labels))\n",
    "misclassified_cnn_only\n",
    "mis_cnn_only = misclassified_cnn_only[0][7]\n",
    "print(letters[y_test[mis_cnn_only][0]])\n",
    "plt.matshow(X_test[mis_cnn_only].reshape(28,28), cmap='gray')\n",
    "plt.savefig('plot_cnn4.png', dpi=300, bbox_inches='tight')\n",
    "print(letters[y_predicted_labels_cnn[mis_cnn_only]])\n",
    "print(letters[y_predicted_labels[mis_cnn_only]])"
   ]
  },
  {
   "cell_type": "code",
   "execution_count": 340,
   "id": "15025e57-2aa3-4515-9d24-5f1ae98388d4",
   "metadata": {},
   "outputs": [
    {
     "name": "stdout",
     "output_type": "stream",
     "text": [
      "R\n",
      "V\n",
      "V\n"
     ]
    },
    {
     "data": {
      "image/png": "[encoded data removed]",
      "text/plain": [
       "<Figure size 480x480 with 1 Axes>"
      ]
     },
     "metadata": {},
     "output_type": "display_data"
    }
   ],
   "source": [
    "misclassified_both = np.where((y_test.reshape(7172) != y_predicted_labels_cnn)&(y_test.reshape(7172) != y_predicted_labels))\n",
    "misclassified_both\n",
    "mis_both = misclassified_both[0][10]\n",
    "print(letters[y_test[mis_both][0]])\n",
    "plt.matshow(X_test[mis_both].reshape(28,28), cmap='gray')\n",
    "plt.savefig('plot_both9.png', dpi=300, bbox_inches='tight')\n",
    "print(letters[y_predicted_labels_cnn[mis_both]])\n",
    "print(letters[y_predicted_labels[mis_both]])"
   ]
  },
  {
   "cell_type": "code",
   "execution_count": 35,
   "id": "9a324447",
   "metadata": {},
   "outputs": [
    {
     "name": "stdout",
     "output_type": "stream",
     "text": [
      "Epoch 1/20\n",
      "858/858 [==============================] - 8s 8ms/step - loss: 2.1570 - accuracy: 0.3346\n",
      "Epoch 2/20\n",
      "858/858 [==============================] - 7s 8ms/step - loss: 1.2645 - accuracy: 0.5994\n",
      "Epoch 3/20\n",
      "858/858 [==============================] - 7s 8ms/step - loss: 0.8947 - accuracy: 0.7105\n",
      "Epoch 4/20\n",
      "858/858 [==============================] - 5s 5ms/step - loss: 0.6640 - accuracy: 0.7879\n",
      "Epoch 5/20\n",
      "858/858 [==============================] - 5s 6ms/step - loss: 0.5108 - accuracy: 0.8372\n",
      "Epoch 6/20\n",
      "858/858 [==============================] - 5s 6ms/step - loss: 0.3899 - accuracy: 0.8776\n",
      "Epoch 7/20\n",
      "858/858 [==============================] - 5s 6ms/step - loss: 0.2906 - accuracy: 0.9123\n",
      "Epoch 8/20\n",
      "858/858 [==============================] - 7s 8ms/step - loss: 0.2271 - accuracy: 0.9322\n",
      "Epoch 9/20\n",
      "858/858 [==============================] - 7s 8ms/step - loss: 0.1655 - accuracy: 0.9549\n",
      "Epoch 10/20\n",
      "858/858 [==============================] - 7s 8ms/step - loss: 0.1328 - accuracy: 0.9658\n",
      "Epoch 11/20\n",
      "858/858 [==============================] - 6s 7ms/step - loss: 0.1045 - accuracy: 0.9736\n",
      "Epoch 12/20\n",
      "858/858 [==============================] - 7s 8ms/step - loss: 0.0808 - accuracy: 0.9803\n",
      "Epoch 13/20\n",
      "858/858 [==============================] - 6s 7ms/step - loss: 0.0676 - accuracy: 0.9828\n",
      "Epoch 14/20\n",
      "858/858 [==============================] - 7s 8ms/step - loss: 0.0613 - accuracy: 0.9839\n",
      "Epoch 15/20\n",
      "858/858 [==============================] - 5s 6ms/step - loss: 0.0471 - accuracy: 0.9893\n",
      "Epoch 16/20\n",
      "858/858 [==============================] - 5s 6ms/step - loss: 0.0630 - accuracy: 0.9812\n",
      "Epoch 17/20\n",
      "858/858 [==============================] - 5s 6ms/step - loss: 0.0312 - accuracy: 0.9928\n",
      "Epoch 18/20\n",
      "858/858 [==============================] - 5s 5ms/step - loss: 0.0494 - accuracy: 0.9845\n",
      "Epoch 19/20\n",
      "858/858 [==============================] - 5s 5ms/step - loss: 0.0298 - accuracy: 0.9924\n",
      "Epoch 20/20\n",
      "858/858 [==============================] - 5s 5ms/step - loss: 0.0574 - accuracy: 0.9838\n"
     ]
    },
    {
     "data": {
      "text/plain": [
       "<keras.src.callbacks.History at 0x20e58d77510>"
      ]
     },
     "execution_count": 35,
     "metadata": {},
     "output_type": "execute_result"
    }
   ],
   "source": [
    "model = keras.Sequential([\n",
    "    keras.layers.Dense(100,input_shape=(784,),activation='relu'),\n",
    "    keras.layers.Dense(50,activation='relu'),\n",
    "    keras.layers.Dense(26,activation='sigmoid')\n",
    "])\n",
    "\n",
    "tf_callback = tf.keras.callbacks.TensorBoard(log_dir=\"logs/\", histogram_freq=1)\n",
    "model.compile(\n",
    "    optimizer='adam',\n",
    "    loss='sparse_categorical_crossentropy',\n",
    "    metrics=['accuracy']\n",
    ")\n",
    "model.fit(X_train,y_train,epochs=20, callbacks=[tf_callback])"
   ]
  },
  {
   "cell_type": "code",
   "execution_count": 37,
   "id": "5150e4d4",
   "metadata": {},
   "outputs": [
    {
     "name": "stdout",
     "output_type": "stream",
     "text": [
      "The tensorboard extension is already loaded. To reload it, use:\n",
      "  %reload_ext tensorboard\n"
     ]
    },
    {
     "data": {
      "text/html": [
       "\n",
       "      <iframe id=\"tensorboard-frame-8043dcbef7e493e8\" width=\"100%\" height=\"800\" frameborder=\"0\">\n",
       "      </iframe>\n",
       "      <script>\n",
       "        (function() {\n",
       "          const frame = document.getElementById(\"tensorboard-frame-8043dcbef7e493e8\");\n",
       "          const url = new URL(\"/\", window.location);\n",
       "          const port = 6007;\n",
       "          if (port) {\n",
       "            url.port = port;\n",
       "          }\n",
       "          frame.src = url;\n",
       "        })();\n",
       "      </script>\n",
       "    "
      ],
      "text/plain": [
       "<IPython.core.display.HTML object>"
      ]
     },
     "metadata": {},
     "output_type": "display_data"
    }
   ],
   "source": [
    "%load_ext tensorboard\n",
    "%tensorboard --logdir logs/train"
   ]
  },
  {
   "cell_type": "code",
   "execution_count": null,
   "id": "7a864f28",
   "metadata": {},
   "outputs": [],
   "source": []
  }
 ],
 "metadata": {
  "kernelspec": {
   "display_name": "Python 3 (ipykernel)",
   "language": "python",
   "name": "python3"
  },
  "language_info": {
   "codemirror_mode": {
    "name": "ipython",
    "version": 3
   },
   "file_extension": ".py",
   "mimetype": "text/x-python",
   "name": "python",
   "nbconvert_exporter": "python",
   "pygments_lexer": "ipython3",
   "version": "3.11.5"
  }
 },
 "nbformat": 4,
 "nbformat_minor": 5
}
